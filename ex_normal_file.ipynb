{
 "cells": [
  {
   "cell_type": "markdown",
   "metadata": {},
   "source": [
    "#### [ 파일 입출력 - 일반 파일 ]\n",
    "- 텍스트 파일 읽기/쓰기\n",
    "- 바이너리 파일 읽기/쓰기\n",
    "- 내장함수 : open(파일경로+파일명)"
   ]
  },
  {
   "cell_type": "markdown",
   "metadata": {},
   "source": [
    "[1] 텍스트 파일 쓰기 <hr>"
   ]
  },
  {
   "cell_type": "code",
   "execution_count": 23,
   "metadata": {},
   "outputs": [],
   "source": [
    "# 파일 경로+파일명\n",
    "FILE_PATH = './normal.txt'"
   ]
  },
  {
   "cell_type": "code",
   "execution_count": 24,
   "metadata": {},
   "outputs": [],
   "source": [
    "# 파일 쓰기\n",
    "# (1) 열기\n",
    "## mode = 'w : 파일 없으면 생성 후 작성\n",
    "##\t\t\t   파일 있으면 내용 지우고 작성\n",
    "myfile=open(FILE_PATH, mode='w')\n",
    "\n",
    "# (2) 쓰기\n",
    "myfile.write(\"Good Luck\\n\")\t\t#'\\n' 줄바꿈 이스케이프문자\n",
    "myfile.write(\"2025\")\n",
    "\n",
    "# (3) 닫기\n",
    "myfile.close()"
   ]
  },
  {
   "cell_type": "code",
   "execution_count": 25,
   "metadata": {},
   "outputs": [],
   "source": [
    "# 파일 쓰기\n",
    "# (1) 열기\n",
    "## mode = 'w : 파일 없으면 생성 후 작성\n",
    "##\t\t\t   파일 있으면 내용 지우고 작성\n",
    "## encoding\t : 텍스트가 깨진 경우 설정\n",
    "myfile=open(FILE_PATH, mode='w', encoding='utf-8')\n",
    "\n",
    "# (2) 쓰기\n",
    "myfile.write(\"Good Luck\\n\")\t\t#'\\n' 줄바꿈 이스케이프문자\n",
    "myfile.write(\"2025\")\n",
    "myfile.write(\"행복한 오늘\")\t\n",
    "\n",
    "# (3) 닫기\n",
    "myfile.close()"
   ]
  },
  {
   "cell_type": "code",
   "execution_count": 27,
   "metadata": {},
   "outputs": [],
   "source": [
    "# 파일 쓰기\n",
    "# (1) 열기\n",
    "## mode = 'a' : 기존 파일에 내용을 끝부분에 추가 모드\n",
    "## encoding\t : 텍스트가 깨진 경우 설정\n",
    "myfile=open(FILE_PATH, mode='a', encoding='utf-8')\n",
    "\n",
    "# (2) 쓰기\n",
    "myfile.write(\"Good Luck\\n\")\t\t#'\\n' 줄바꿈 이스케이프문자\n",
    "myfile.write(\"2025\")\n",
    "myfile.write(\"행복한 오늘\")\t\n",
    "\n",
    "# (3) 닫기\n",
    "myfile.close()"
   ]
  },
  {
   "cell_type": "code",
   "execution_count": 28,
   "metadata": {},
   "outputs": [],
   "source": [
    "# 파일 쓰기\n",
    "FILE_PATH = 'normal02.txt'\n",
    "\n",
    "# (1) 열기\n",
    "## mode = 'a' : 기존 파일에 내용을 끝부분에 추가 모드\n",
    "##\t\t\t\t파일 없으면 생성해서 추가\n",
    "## encoding\t : 텍스트가 깨진 경우 설정\n",
    "myfile=open(FILE_PATH, mode='a', encoding='utf-8')\n",
    "\n",
    "# (2) 쓰기\n",
    "myfile.write(\"Good Luck\\n\")\t\t#'\\n' 줄바꿈 이스케이프문자\n",
    "myfile.write(\"2025\")\n",
    "myfile.write(\"행복한 오늘\")\t\n",
    "\n",
    "# (3) 닫기\n",
    "myfile.close()"
   ]
  },
  {
   "cell_type": "code",
   "execution_count": 29,
   "metadata": {},
   "outputs": [],
   "source": [
    "# 파일 쓰기\n",
    "FILE_PATH = 'normal03.txt'\n",
    "\n",
    "# (1) 열기\n",
    "## mode = 'x' : 파일이 존재하면 ERROR\n",
    "##\t\t\t\t파일 생성해서 내용 넣기\n",
    "## encoding\t : 텍스트가 깨진 경우 설정\n",
    "myfile=open(FILE_PATH, mode='x', encoding='utf-8')\n",
    "\n",
    "# (2) 쓰기\n",
    "myfile.write(\"Good Luck\\n\")\t\t#'\\n' 줄바꿈 이스케이프문자\n",
    "myfile.write(\"2025\")\n",
    "myfile.write(\"행복한 오늘\")\t\n",
    "\n",
    "# (3) 닫기\n",
    "myfile.close()"
   ]
  },
  {
   "cell_type": "code",
   "execution_count": null,
   "metadata": {},
   "outputs": [],
   "source": [
    "## [권장사항] ------------------------------------------------\n",
    "## with ~ as 구문 : 파일 close 자동 처리함"
   ]
  },
  {
   "cell_type": "code",
   "execution_count": 30,
   "metadata": {},
   "outputs": [],
   "source": [
    "## 여러 라인의 텍스트 쓰기\n",
    "with open(FILE_PATH, mode='w', encoding='utf-8') as f:\n",
    "\tf.writelines(['11,22,33,44\\n', 'Good\\n', 'Happy\\n'])"
   ]
  },
  {
   "cell_type": "markdown",
   "metadata": {},
   "source": [
    "[2] 텍스트 파일 읽기 <hr>"
   ]
  },
  {
   "cell_type": "code",
   "execution_count": 31,
   "metadata": {},
   "outputs": [
    {
     "name": "stdout",
     "output_type": "stream",
     "text": [
      "[ALL_DATA] 11,22,33,44\n",
      "Good\n",
      "Happy\n",
      "\n"
     ]
    }
   ],
   "source": [
    "## [2-1] 모든 텍스트 가져오기\n",
    "with open(FILE_PATH, mode='r') as f:\n",
    "\tall_data = f.read()\n",
    "\n",
    "print(f'[ALL_DATA] {all_data}')"
   ]
  },
  {
   "cell_type": "code",
   "execution_count": 32,
   "metadata": {},
   "outputs": [
    {
     "name": "stdout",
     "output_type": "stream",
     "text": [
      "[ALL_DATA] 11,22,3\n"
     ]
    }
   ],
   "source": [
    "## [2-2] 일부 텍스트 가져오기\n",
    "with open(FILE_PATH, mode='r') as f:\n",
    "\tall_data = f.read(7)\n",
    "\n",
    "print(f'[ALL_DATA] {all_data}')"
   ]
  },
  {
   "cell_type": "code",
   "execution_count": 33,
   "metadata": {},
   "outputs": [
    {
     "name": "stdout",
     "output_type": "stream",
     "text": [
      "[LINE_DATA] 11,22,33,44\n",
      "\n"
     ]
    }
   ],
   "source": [
    "## [2-3] 줄/라인 단위 가져오기 => '\\r'\n",
    "with open(FILE_PATH, mode='r') as f:\n",
    "\tline_data = f.readline()\n",
    "\n",
    "print(f'[LINE_DATA] {line_data}')"
   ]
  },
  {
   "cell_type": "code",
   "execution_count": 34,
   "metadata": {},
   "outputs": [
    {
     "name": "stdout",
     "output_type": "stream",
     "text": [
      "[LINE_DATA] 11,22,33,44\n",
      "[LINE_DATA] Good\n",
      "[LINE_DATA] Happy\n"
     ]
    }
   ],
   "source": [
    "## --> 모든 내용 가져오기 위해서는 반복 필요\n",
    "with open(FILE_PATH, mode='r') as f:\n",
    "\twhile True:\n",
    "\t\tline_data = f.readline()\n",
    "\t\tif not line_data: break\n",
    "\t\tprint(f'[LINE_DATA] {line_data}', end='')"
   ]
  },
  {
   "cell_type": "code",
   "execution_count": 35,
   "metadata": {},
   "outputs": [
    {
     "name": "stdout",
     "output_type": "stream",
     "text": [
      "[ALL_LINES]\n",
      "['11,22,33,44\\n', 'Good\\n', 'Happy\\n']\n"
     ]
    }
   ],
   "source": [
    "## [2-4] 모든 데이터를 줄/라인 단위 가져오기\n",
    "with open(FILE_PATH, mode='r') as f:\n",
    "\tall_lines = f.readlines()\n",
    "\tprint(f'[ALL_LINES]\\n{all_lines}')"
   ]
  },
  {
   "cell_type": "markdown",
   "metadata": {},
   "source": [
    "[실습 : 파일 복사 기능] <hr>"
   ]
  },
  {
   "cell_type": "code",
   "execution_count": 36,
   "metadata": {},
   "outputs": [],
   "source": [
    "# normal03.txt ===> copy_normal03.txt\n",
    "FILE_PATH = 'normal03.txt'\n",
    "COPY_PATH = 'copy_normal03.txt'\n",
    "\n",
    "with open(FILE_PATH, mode='r') as of:\n",
    "\twith open(COPY_PATH, mode='w') as cf:\n",
    "\t\tcf.write(of.read())\n",
    "\t"
   ]
  },
  {
   "cell_type": "markdown",
   "metadata": {},
   "source": [
    "#### [ bytes 자료형 ]\n",
    "- 바이너리 데이터 관련 자료형\n",
    "- 식별자 : b'0x\\XXX', b'str'"
   ]
  },
  {
   "cell_type": "markdown",
   "metadata": {},
   "source": [
    "[데이터 ==> bytes 변환] <hr>"
   ]
  },
  {
   "cell_type": "markdown",
   "metadata": {},
   "source": [
    "- [1] int => bytes 변환"
   ]
  },
  {
   "cell_type": "code",
   "execution_count": 37,
   "metadata": {},
   "outputs": [],
   "source": [
    "## 다양한 데이터 \n",
    "int_datas = [17, 19]\n",
    "int_num = 17\n",
    "str_data = \"AB\""
   ]
  },
  {
   "cell_type": "code",
   "execution_count": 40,
   "metadata": {},
   "outputs": [
    {
     "data": {
      "text/plain": [
       "b'\\x11\\x13'"
      ]
     },
     "execution_count": 40,
     "metadata": {},
     "output_type": "execute_result"
    }
   ],
   "source": [
    "## [1-1] int => bytes \t: 표기법 b'x\\_ _'. b'x\\_ _ _ _'\n",
    "## 방법1 - bytes() 생성자\n",
    "bytes(int_datas)\t# [17, 19]"
   ]
  },
  {
   "cell_type": "code",
   "execution_count": 43,
   "metadata": {},
   "outputs": [
    {
     "name": "stdout",
     "output_type": "stream",
     "text": [
      "[1bytes, little, unsigned] b'\\x11'\n",
      "[2bytes, little, unsigned] b'\\x11\\x00'\n",
      "[2bytes, little,   signed] b'\\x11\\x00'\n",
      "\n",
      "[1bytes, big,    unsigned] b'\\x11'\n",
      "[2bytes, big,    unsigned] b'\\x00\\x11'\n",
      "[2bytes, big,      signed] b'\\x00\\x11'\n"
     ]
    }
   ],
   "source": [
    "## 방법2 - int.to_bytes()메서드\n",
    "print('[1bytes, little, unsigned]', int_num.to_bytes(length=1, byteorder='little') )\n",
    "print('[2bytes, little, unsigned]', int_num.to_bytes(length=2, byteorder='little') )\n",
    "print('[2bytes, little,   signed]', int_num.to_bytes(length=2, signed=True, byteorder='little') )\n",
    "print()\n",
    "\n",
    "print('[1bytes, big,    unsigned]', int_num.to_bytes(1, 'big') )\n",
    "print('[2bytes, big,    unsigned]', int_num.to_bytes(2, 'big') )\n",
    "print('[2bytes, big,      signed]', int_num.to_bytes(2, 'big', signed=True) )"
   ]
  },
  {
   "cell_type": "markdown",
   "metadata": {},
   "source": [
    "- [2] str ==> bytes 변환 "
   ]
  },
  {
   "cell_type": "code",
   "execution_count": 44,
   "metadata": {},
   "outputs": [
    {
     "name": "stdout",
     "output_type": "stream",
     "text": [
      "<class 'bytes'> b'AB'\n"
     ]
    }
   ],
   "source": [
    "## [2-1] str => btypes\n",
    "## 방법1 - bytes() 생성자\n",
    "str_byte = bytes(str_data, encoding='utf-8')\n",
    "\n",
    "print(type(str_byte), str_byte)"
   ]
  },
  {
   "cell_type": "code",
   "execution_count": 45,
   "metadata": {},
   "outputs": [
    {
     "data": {
      "text/plain": [
       "b'AB'"
      ]
     },
     "execution_count": 45,
     "metadata": {},
     "output_type": "execute_result"
    }
   ],
   "source": [
    "## 방법2 - str.encode() 메서드\n",
    "str_data.encode()"
   ]
  },
  {
   "cell_type": "markdown",
   "metadata": {},
   "source": [
    "[bytes ==> 데이터 변환] <hr>"
   ]
  },
  {
   "cell_type": "markdown",
   "metadata": {},
   "source": [
    "- [1] bytes ==> int 변환"
   ]
  },
  {
   "cell_type": "code",
   "execution_count": 46,
   "metadata": {},
   "outputs": [
    {
     "data": {
      "text/plain": [
       "17"
      ]
     },
     "execution_count": 46,
     "metadata": {},
     "output_type": "execute_result"
    }
   ],
   "source": [
    "int_byte = b'\\x11'\n",
    "\n",
    "int.from_bytes(int_byte, byteorder='little')"
   ]
  },
  {
   "cell_type": "code",
   "execution_count": 47,
   "metadata": {},
   "outputs": [
    {
     "data": {
      "text/plain": [
       "17"
      ]
     },
     "execution_count": 47,
     "metadata": {},
     "output_type": "execute_result"
    }
   ],
   "source": [
    "int_byte = b'\\x11\\x00'\n",
    "\n",
    "int.from_bytes(int_byte, byteorder='little')"
   ]
  },
  {
   "cell_type": "markdown",
   "metadata": {},
   "source": [
    "[2] bytes ==> str 변환"
   ]
  },
  {
   "cell_type": "code",
   "execution_count": 48,
   "metadata": {},
   "outputs": [
    {
     "data": {
      "text/plain": [
       "'A'"
      ]
     },
     "execution_count": 48,
     "metadata": {},
     "output_type": "execute_result"
    }
   ],
   "source": [
    "## 방법1) - bytestr.decode()\n",
    "str_byte = b'A'\n",
    "\n",
    "str_byte.decode()"
   ]
  },
  {
   "cell_type": "code",
   "execution_count": 49,
   "metadata": {},
   "outputs": [
    {
     "data": {
      "text/plain": [
       "'A'"
      ]
     },
     "execution_count": 49,
     "metadata": {},
     "output_type": "execute_result"
    }
   ],
   "source": [
    "## 방법2) - str()\n",
    "str_byte = b'A'\n",
    "\n",
    "str(str_byte, encoding='utf-8')"
   ]
  },
  {
   "cell_type": "code",
   "execution_count": null,
   "metadata": {},
   "outputs": [],
   "source": []
  }
 ],
 "metadata": {
  "kernelspec": {
   "display_name": "ML_PY39",
   "language": "python",
   "name": "python3"
  },
  "language_info": {
   "codemirror_mode": {
    "name": "ipython",
    "version": 3
   },
   "file_extension": ".py",
   "mimetype": "text/x-python",
   "name": "python",
   "nbconvert_exporter": "python",
   "pygments_lexer": "ipython3",
   "version": "3.9.21"
  }
 },
 "nbformat": 4,
 "nbformat_minor": 2
}

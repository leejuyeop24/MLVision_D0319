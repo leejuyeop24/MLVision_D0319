{
 "cells": [
  {
   "cell_type": "markdown",
   "metadata": {},
   "source": [
    "#### [카메라 영상 및 동영상 로딩 ]"
   ]
  },
  {
   "cell_type": "markdown",
   "metadata": {},
   "source": [
    "[1] 모듈 로딩 및 데이터 준비 <hr>"
   ]
  },
  {
   "cell_type": "code",
   "execution_count": 16,
   "metadata": {},
   "outputs": [],
   "source": [
    "## [1-1] 모듈 로딩\n",
    "import cv2\n",
    "import numpy as np\n",
    "import matplotlib.pyplot as plt"
   ]
  },
  {
   "cell_type": "code",
   "execution_count": 17,
   "metadata": {},
   "outputs": [],
   "source": [
    "## [1-2] 데이터 준비\n",
    "DEVICE_ID = 0\t\t\t     ## 기기에 연결된 카메라 번호\n",
    "VIDEO_DIR = '../data/video/' ## 영상 저장 폴더\n",
    "EXIT_KEY = 27\t\t\t\t ## 종료 키 값 정의"
   ]
  },
  {
   "cell_type": "markdown",
   "metadata": {},
   "source": [
    "[2] 카메라 연동 및 영상 로딩 <hr>"
   ]
  },
  {
   "cell_type": "code",
   "execution_count": 18,
   "metadata": {},
   "outputs": [],
   "source": [
    "## 카메라 객체 생성\n",
    "# cam = cv2.VideoCapture(DEVICE_ID) # 카메라\n",
    "cam = cv2.VideoCapture(f'{VIDEO_DIR}big_buck.avi')"
   ]
  },
  {
   "cell_type": "code",
   "execution_count": 19,
   "metadata": {},
   "outputs": [],
   "source": [
    "## 카메라 연동 여부\n",
    "if cam.isOpened():\n",
    "\t## 카메라의 영상 데이터 로딩\n",
    "\tNO = 1\n",
    "\twhile True:\n",
    "\t\tret, img = cam.read()\n",
    "\n",
    "\t\t## 로딩된 데이터 존재 시 화면 출력\n",
    "\t\tif ret:\n",
    "\t\t\tcv2.imshow(\"[ My CAM ]\", img)\n",
    "\t\t\tcv2.imwrite(f'{VIDEO_DIR}save_{NO}.jpg', img)\n",
    "\t\t\tNO += 1\n",
    "\t\t\tkey = cv2.waitKey(30)\t\t# 1000ms 즉, 1초에 몇장의 이미지 로딩 여부 설정\n",
    "\t\t\tif key == EXIT_KEY : break\t\t# 영상 화면 위에 키보드 ESC키 입력\n",
    "\t\telse:\n",
    "\t\t\tprint(\"영상 로딩 실패\")\n",
    "\n",
    "\t## 카메라 해제 및 띄워진 영상 출력 창 닫기\n",
    "\tcam.release()\n",
    "\tcv2.destroyAllWindows()\n",
    "\n",
    "else:\n",
    "\tprint(\"카메라 연동 안됨!\")"
   ]
  },
  {
   "cell_type": "code",
   "execution_count": null,
   "metadata": {},
   "outputs": [],
   "source": []
  }
 ],
 "metadata": {
  "kernelspec": {
   "display_name": "Python 3",
   "language": "python",
   "name": "python3"
  },
  "language_info": {
   "codemirror_mode": {
    "name": "ipython",
    "version": 3
   },
   "file_extension": ".py",
   "mimetype": "text/x-python",
   "name": "python",
   "nbconvert_exporter": "python",
   "pygments_lexer": "ipython3",
   "version": "3.9.21"
  }
 },
 "nbformat": 4,
 "nbformat_minor": 2
}
